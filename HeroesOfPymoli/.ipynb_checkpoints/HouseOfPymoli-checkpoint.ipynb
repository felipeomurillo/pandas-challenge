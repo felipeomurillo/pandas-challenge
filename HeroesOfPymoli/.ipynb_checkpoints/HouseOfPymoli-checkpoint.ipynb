{
 "cells": [
  {
   "cell_type": "markdown",
   "metadata": {},
   "source": [
    "# House of Pymoli\n",
    "* **Author:** Felipe Murillo\n",
    "* **Date:** April 17, 2020\n",
    "\n",
    "* **Description:** Analyze the data for the most recent fantasy game: Heroes of Pymoli\n",
    "\n",
    "* **Required Input Files:** /Resources/purchase_data.csv\n"
   ]
  },
  {
   "cell_type": "markdown",
   "metadata": {},
   "source": [
    "## **>> Observable Trends**"
   ]
  },
  {
   "cell_type": "markdown",
   "metadata": {},
   "source": [
    "1. The clear majority of video game purchases are made by male video game players; however, female players are spending more money per capita"
   ]
  },
  {
   "cell_type": "markdown",
   "metadata": {},
   "source": [
    "2. Most video game players are in their early 20's (20 - 24 years old)"
   ]
  },
  {
   "cell_type": "markdown",
   "metadata": {},
   "source": [
    "3. Kids under 10 years old are spending the most money per capita"
   ]
  },
  {
   "cell_type": "markdown",
   "metadata": {},
   "source": [
    "4. An individual player is NOT willing to spend more than $20 for video game items"
   ]
  },
  {
   "cell_type": "markdown",
   "metadata": {},
   "source": [
    "5. The item \"Final Critic\" is the most popular and most profitable item to buy"
   ]
  },
  {
   "cell_type": "markdown",
   "metadata": {},
   "source": [
    "***"
   ]
  },
  {
   "cell_type": "markdown",
   "metadata": {},
   "source": [
    "## **>> Configure Dependencies**"
   ]
  },
  {
   "cell_type": "code",
   "execution_count": 2,
   "metadata": {},
   "outputs": [],
   "source": [
    "import pandas as pd\n",
    "import os"
   ]
  },
  {
   "cell_type": "markdown",
   "metadata": {},
   "source": [
    "## **>> Import Data**"
   ]
  },
  {
   "cell_type": "code",
   "execution_count": 3,
   "metadata": {},
   "outputs": [
    {
     "data": {
      "text/html": [
       "<div>\n",
       "<style scoped>\n",
       "    .dataframe tbody tr th:only-of-type {\n",
       "        vertical-align: middle;\n",
       "    }\n",
       "\n",
       "    .dataframe tbody tr th {\n",
       "        vertical-align: top;\n",
       "    }\n",
       "\n",
       "    .dataframe thead th {\n",
       "        text-align: right;\n",
       "    }\n",
       "</style>\n",
       "<table border=\"1\" class=\"dataframe\">\n",
       "  <thead>\n",
       "    <tr style=\"text-align: right;\">\n",
       "      <th></th>\n",
       "      <th>Purchase ID</th>\n",
       "      <th>SN</th>\n",
       "      <th>Age</th>\n",
       "      <th>Gender</th>\n",
       "      <th>Item ID</th>\n",
       "      <th>Item Name</th>\n",
       "      <th>Price</th>\n",
       "    </tr>\n",
       "  </thead>\n",
       "  <tbody>\n",
       "    <tr>\n",
       "      <td>0</td>\n",
       "      <td>0</td>\n",
       "      <td>Lisim78</td>\n",
       "      <td>20</td>\n",
       "      <td>Male</td>\n",
       "      <td>108</td>\n",
       "      <td>Extraction, Quickblade Of Trembling Hands</td>\n",
       "      <td>3.53</td>\n",
       "    </tr>\n",
       "    <tr>\n",
       "      <td>1</td>\n",
       "      <td>1</td>\n",
       "      <td>Lisovynya38</td>\n",
       "      <td>40</td>\n",
       "      <td>Male</td>\n",
       "      <td>143</td>\n",
       "      <td>Frenzied Scimitar</td>\n",
       "      <td>1.56</td>\n",
       "    </tr>\n",
       "    <tr>\n",
       "      <td>2</td>\n",
       "      <td>2</td>\n",
       "      <td>Ithergue48</td>\n",
       "      <td>24</td>\n",
       "      <td>Male</td>\n",
       "      <td>92</td>\n",
       "      <td>Final Critic</td>\n",
       "      <td>4.88</td>\n",
       "    </tr>\n",
       "    <tr>\n",
       "      <td>3</td>\n",
       "      <td>3</td>\n",
       "      <td>Chamassasya86</td>\n",
       "      <td>24</td>\n",
       "      <td>Male</td>\n",
       "      <td>100</td>\n",
       "      <td>Blindscythe</td>\n",
       "      <td>3.27</td>\n",
       "    </tr>\n",
       "    <tr>\n",
       "      <td>4</td>\n",
       "      <td>4</td>\n",
       "      <td>Iskosia90</td>\n",
       "      <td>23</td>\n",
       "      <td>Male</td>\n",
       "      <td>131</td>\n",
       "      <td>Fury</td>\n",
       "      <td>1.44</td>\n",
       "    </tr>\n",
       "  </tbody>\n",
       "</table>\n",
       "</div>"
      ],
      "text/plain": [
       "   Purchase ID             SN  Age Gender  Item ID  \\\n",
       "0            0        Lisim78   20   Male      108   \n",
       "1            1    Lisovynya38   40   Male      143   \n",
       "2            2     Ithergue48   24   Male       92   \n",
       "3            3  Chamassasya86   24   Male      100   \n",
       "4            4      Iskosia90   23   Male      131   \n",
       "\n",
       "                                   Item Name  Price  \n",
       "0  Extraction, Quickblade Of Trembling Hands   3.53  \n",
       "1                          Frenzied Scimitar   1.56  \n",
       "2                               Final Critic   4.88  \n",
       "3                                Blindscythe   3.27  \n",
       "4                                       Fury   1.44  "
      ]
     },
     "execution_count": 3,
     "metadata": {},
     "output_type": "execute_result"
    }
   ],
   "source": [
    "csvfile = os.path.join(\"..\",\"Resources/purchase_data.csv\")\n",
    "\n",
    "purchase_data = pd.read_csv(csvfile)\n",
    "\n",
    "purchase_data.head()"
   ]
  },
  {
   "cell_type": "markdown",
   "metadata": {},
   "source": [
    "## **>> Player Count**"
   ]
  },
  {
   "cell_type": "code",
   "execution_count": 107,
   "metadata": {},
   "outputs": [
    {
     "name": "stdout",
     "output_type": "stream",
     "text": [
      "\u001b[1m Total number of players: \u001b[94m576\n"
     ]
    }
   ],
   "source": [
    "# Obtain list of unique players\n",
    "unique_players = purchase_data[\"SN\"].value_counts()\n",
    "# Count # of unique players\n",
    "no_unique_players = unique_players.count()\n",
    "print(f\"\\033[1m Total number of players: \\033[94m{no_unique_players}\")"
   ]
  },
  {
   "cell_type": "markdown",
   "metadata": {},
   "source": [
    "## **>> Purchasing Analysis Total**"
   ]
  },
  {
   "cell_type": "code",
   "execution_count": 108,
   "metadata": {},
   "outputs": [],
   "source": [
    "# Calculate number of unique items\n",
    "no_unique_items = purchase_data[\"Item Name\"].value_counts().count()"
   ]
  },
  {
   "cell_type": "code",
   "execution_count": 109,
   "metadata": {},
   "outputs": [],
   "source": [
    "# Calculate the average purchase price\n",
    "avg_purchase_price = purchase_data[\"Price\"].mean()"
   ]
  },
  {
   "cell_type": "code",
   "execution_count": 110,
   "metadata": {},
   "outputs": [],
   "source": [
    "# Calculate number of unique purchases\n",
    "no_purchases = purchase_data[\"Purchase ID\"].value_counts().count()"
   ]
  },
  {
   "cell_type": "code",
   "execution_count": 111,
   "metadata": {},
   "outputs": [],
   "source": [
    "# Calculate the total revenue of the game\n",
    "total_revenue = purchase_data[\"Price\"].sum()"
   ]
  },
  {
   "cell_type": "markdown",
   "metadata": {},
   "source": [
    "### **<u>Purchasing Summary</u>**"
   ]
  },
  {
   "cell_type": "code",
   "execution_count": 112,
   "metadata": {},
   "outputs": [
    {
     "data": {
      "text/html": [
       "<style  type=\"text/css\" >\n",
       "    #T_c9afc934_80d5_11ea_837d_f01898950881row0_col0 {\n",
       "            text-align:  center;\n",
       "        }    #T_c9afc934_80d5_11ea_837d_f01898950881row0_col1 {\n",
       "            text-align:  center;\n",
       "        }    #T_c9afc934_80d5_11ea_837d_f01898950881row0_col2 {\n",
       "            text-align:  center;\n",
       "        }    #T_c9afc934_80d5_11ea_837d_f01898950881row0_col3 {\n",
       "            text-align:  center;\n",
       "        }</style><table id=\"T_c9afc934_80d5_11ea_837d_f01898950881\" ><thead>    <tr>        <th class=\"col_heading level0 col0\" >No. of Unique Items</th>        <th class=\"col_heading level0 col1\" >Avg. Price</th>        <th class=\"col_heading level0 col2\" >No. of Purchases</th>        <th class=\"col_heading level0 col3\" >Total Revenue</th>    </tr></thead><tbody>\n",
       "                <tr>\n",
       "                                <td id=\"T_c9afc934_80d5_11ea_837d_f01898950881row0_col0\" class=\"data row0 col0\" >179</td>\n",
       "                        <td id=\"T_c9afc934_80d5_11ea_837d_f01898950881row0_col1\" class=\"data row0 col1\" >$3.05</td>\n",
       "                        <td id=\"T_c9afc934_80d5_11ea_837d_f01898950881row0_col2\" class=\"data row0 col2\" >780</td>\n",
       "                        <td id=\"T_c9afc934_80d5_11ea_837d_f01898950881row0_col3\" class=\"data row0 col3\" >$2,379.77</td>\n",
       "            </tr>\n",
       "    </tbody></table>"
      ],
      "text/plain": [
       "<pandas.io.formats.style.Styler at 0x11ded7ed0>"
      ]
     },
     "execution_count": 112,
     "metadata": {},
     "output_type": "execute_result"
    }
   ],
   "source": [
    "# Compile summary table into a dataframe\n",
    "purchase_summary_df = pd.DataFrame({\n",
    "                                \"No. of Unique Items\":[no_unique_items],\n",
    "                                \"Avg. Price\":[avg_purchase_price],\n",
    "                                \"No. of Purchases\":[no_purchases],\n",
    "                                \"Total Revenue\":[total_revenue]\n",
    "                                })\n",
    "\n",
    "# Format the summary table\n",
    "purchase_summary_df[\"Avg. Price\"] = purchase_summary_df[\"Avg. Price\"].map(\"${:.2f}\".format)\n",
    "purchase_summary_df[\"Total Revenue\"] = purchase_summary_df[\"Total Revenue\"].map(\"${:,.2f}\".format)\n",
    "\n",
    "# Display the formatted summary table\n",
    "purchase_summary_df.style.hide_index().set_properties(**{'text-align': 'center'})"
   ]
  },
  {
   "cell_type": "markdown",
   "metadata": {},
   "source": [
    "## **>> Gender Demographics**"
   ]
  },
  {
   "cell_type": "markdown",
   "metadata": {},
   "source": [
    "### **Percentage and Count of Male Players**"
   ]
  },
  {
   "cell_type": "code",
   "execution_count": 148,
   "metadata": {},
   "outputs": [],
   "source": [
    "# Filter purchase data for male players\n",
    "malePlayers = purchase_data.loc[purchase_data[\"Gender\"] == 'Male']\n",
    "\n",
    "# Find no. of unique male players\n",
    "no_male_players = malePlayers[\"SN\"].value_counts().count()\n",
    "\n",
    "# Calculate percentage of male players\n",
    "malePercent = no_male_players/no_unique_players*100"
   ]
  },
  {
   "cell_type": "markdown",
   "metadata": {},
   "source": [
    "### **Percentage and Count of Female Players**"
   ]
  },
  {
   "cell_type": "code",
   "execution_count": 149,
   "metadata": {},
   "outputs": [],
   "source": [
    "# Filter purchase data for female players\n",
    "femalePlayers = purchase_data.loc[purchase_data[\"Gender\"] == 'Female']\n",
    "\n",
    "# Find no. of unique male players\n",
    "no_female_players = femalePlayers[\"SN\"].value_counts().count()\n",
    "\n",
    "# Calculate percentage of male players\n",
    "femalePercent = no_female_players/no_unique_players*100"
   ]
  },
  {
   "cell_type": "markdown",
   "metadata": {},
   "source": [
    "### **Percentage and Count of Other / Non-Disclosed**"
   ]
  },
  {
   "cell_type": "code",
   "execution_count": 156,
   "metadata": {},
   "outputs": [],
   "source": [
    "# Filter purchase data for female players\n",
    "otherPlayers = purchase_data.loc[purchase_data[\"Gender\"] == 'Other / Non-Disclosed']\n",
    "\n",
    "# Find no. of unique male players\n",
    "no_other_Players = otherPlayers[\"SN\"].value_counts().count()\n",
    "\n",
    "# Calculate percentage of male players\n",
    "otherPercent = no_other_Players/no_unique_players*100"
   ]
  },
  {
   "cell_type": "markdown",
   "metadata": {},
   "source": [
    "### **<u>Gender Demographics Summary</u>**"
   ]
  },
  {
   "cell_type": "code",
   "execution_count": 152,
   "metadata": {},
   "outputs": [
    {
     "data": {
      "text/html": [
       "<style  type=\"text/css\" >\n",
       "    #T_c5f5429c_80da_11ea_837d_f01898950881row0_col0 {\n",
       "            text-align:  center;\n",
       "        }    #T_c5f5429c_80da_11ea_837d_f01898950881row0_col1 {\n",
       "            text-align:  center;\n",
       "        }    #T_c5f5429c_80da_11ea_837d_f01898950881row1_col0 {\n",
       "            text-align:  center;\n",
       "        }    #T_c5f5429c_80da_11ea_837d_f01898950881row1_col1 {\n",
       "            text-align:  center;\n",
       "        }    #T_c5f5429c_80da_11ea_837d_f01898950881row2_col0 {\n",
       "            text-align:  center;\n",
       "        }    #T_c5f5429c_80da_11ea_837d_f01898950881row2_col1 {\n",
       "            text-align:  center;\n",
       "        }</style><table id=\"T_c5f5429c_80da_11ea_837d_f01898950881\" ><thead>    <tr>        <th class=\"blank level0\" ></th>        <th class=\"col_heading level0 col0\" >Total Count</th>        <th class=\"col_heading level0 col1\" >Percentage of Players</th>    </tr>    <tr>        <th class=\"index_name level0\" >Gender</th>        <th class=\"blank\" ></th>        <th class=\"blank\" ></th>    </tr></thead><tbody>\n",
       "                <tr>\n",
       "                        <th id=\"T_c5f5429c_80da_11ea_837d_f01898950881level0_row0\" class=\"row_heading level0 row0\" >Male</th>\n",
       "                        <td id=\"T_c5f5429c_80da_11ea_837d_f01898950881row0_col0\" class=\"data row0 col0\" >484</td>\n",
       "                        <td id=\"T_c5f5429c_80da_11ea_837d_f01898950881row0_col1\" class=\"data row0 col1\" >84.03%</td>\n",
       "            </tr>\n",
       "            <tr>\n",
       "                        <th id=\"T_c5f5429c_80da_11ea_837d_f01898950881level0_row1\" class=\"row_heading level0 row1\" >Female</th>\n",
       "                        <td id=\"T_c5f5429c_80da_11ea_837d_f01898950881row1_col0\" class=\"data row1 col0\" >81</td>\n",
       "                        <td id=\"T_c5f5429c_80da_11ea_837d_f01898950881row1_col1\" class=\"data row1 col1\" >14.06%</td>\n",
       "            </tr>\n",
       "            <tr>\n",
       "                        <th id=\"T_c5f5429c_80da_11ea_837d_f01898950881level0_row2\" class=\"row_heading level0 row2\" >Other / Non-Disclosed</th>\n",
       "                        <td id=\"T_c5f5429c_80da_11ea_837d_f01898950881row2_col0\" class=\"data row2 col0\" >11</td>\n",
       "                        <td id=\"T_c5f5429c_80da_11ea_837d_f01898950881row2_col1\" class=\"data row2 col1\" >1.91%</td>\n",
       "            </tr>\n",
       "    </tbody></table>"
      ],
      "text/plain": [
       "<pandas.io.formats.style.Styler at 0x11df5fc10>"
      ]
     },
     "execution_count": 152,
     "metadata": {},
     "output_type": "execute_result"
    }
   ],
   "source": [
    "# Compile gender demogrpahics summary table into a dataframe\n",
    "gender_summary_df = pd.DataFrame({\n",
    "                                \"Gender\":['Male','Female','Other / Non-Disclosed'],\n",
    "                                \"Total Count\":[no_male_players,no_female_players,no_other_players],\n",
    "                                \"Percentage of Players\":[malePercent, femalePercent,otherPercent],\n",
    "                                })\n",
    "\n",
    "# Format the summary table\n",
    "gender_summary_df[\"Total Count\"] = gender_summary_df[\"Total Count\"].map(\"{:,}\".format)\n",
    "gender_summary_df[\"Percentage of Players\"] = gender_summary_df[\"Percentage of Players\"].map(\"{:.2f}%\".format)\n",
    "\n",
    "\n",
    "# Display the formatted summary table\n",
    "gender_summary_df.set_index(\"Gender\").style.set_properties(**{'text-align': 'center'})"
   ]
  },
  {
   "cell_type": "markdown",
   "metadata": {},
   "source": [
    "## **>> Purchasing Analysis (Gender)**"
   ]
  },
  {
   "cell_type": "markdown",
   "metadata": {},
   "source": [
    "### **Purchase Count**"
   ]
  },
  {
   "cell_type": "code",
   "execution_count": 162,
   "metadata": {},
   "outputs": [],
   "source": [
    "# Count purchases made by different gender groups\n",
    "mPurchCnt = malePlayers[\"Purchase ID\"].value_counts().count()\n",
    "fPurchCnt = femalePlayers[\"Purchase ID\"].value_counts().count()\n",
    "oPurchCnt = otherPlayers[\"Purchase ID\"].value_counts().count()"
   ]
  },
  {
   "cell_type": "markdown",
   "metadata": {},
   "source": [
    "### **Average Purchase Price**"
   ]
  },
  {
   "cell_type": "code",
   "execution_count": 163,
   "metadata": {},
   "outputs": [],
   "source": [
    "# Average purchase price by gender\n",
    "mAvgPrice = malePlayers[\"Price\"].mean()\n",
    "fAvgPrice = femalePlayers[\"Price\"].mean()\n",
    "oAvgPrice = otherPlayers[\"Price\"].mean()"
   ]
  },
  {
   "cell_type": "markdown",
   "metadata": {},
   "source": [
    "### **Total Purchase Value**"
   ]
  },
  {
   "cell_type": "code",
   "execution_count": 164,
   "metadata": {},
   "outputs": [],
   "source": [
    "# Total purchase price by gender\n",
    "mTotPrice = malePlayers[\"Price\"].sum()\n",
    "fTotPrice = femalePlayers[\"Price\"].sum()\n",
    "oTotPrice = otherPlayers[\"Price\"].sum()"
   ]
  },
  {
   "cell_type": "markdown",
   "metadata": {},
   "source": [
    "### **Average Purchase Total per Person by Gender**"
   ]
  },
  {
   "cell_type": "code",
   "execution_count": 165,
   "metadata": {},
   "outputs": [],
   "source": [
    "# Avg purchase total per person by gender\n",
    "mAvgPP = mTotPrice/no_male_players\n",
    "fAvgPP = fTotPrice/no_female_players\n",
    "oAvgPP = oTotPrice/no_other_players"
   ]
  },
  {
   "cell_type": "markdown",
   "metadata": {},
   "source": [
    "### **<u>Purchasing Analysis (Gender) Summary</u>**"
   ]
  },
  {
   "cell_type": "code",
   "execution_count": 174,
   "metadata": {},
   "outputs": [
    {
     "data": {
      "text/html": [
       "<style  type=\"text/css\" >\n",
       "    #T_976ea4c4_80dd_11ea_837d_f01898950881row0_col0 {\n",
       "            text-align:  center;\n",
       "        }    #T_976ea4c4_80dd_11ea_837d_f01898950881row0_col1 {\n",
       "            text-align:  center;\n",
       "        }    #T_976ea4c4_80dd_11ea_837d_f01898950881row0_col2 {\n",
       "            text-align:  center;\n",
       "        }    #T_976ea4c4_80dd_11ea_837d_f01898950881row0_col3 {\n",
       "            text-align:  center;\n",
       "        }    #T_976ea4c4_80dd_11ea_837d_f01898950881row1_col0 {\n",
       "            text-align:  center;\n",
       "        }    #T_976ea4c4_80dd_11ea_837d_f01898950881row1_col1 {\n",
       "            text-align:  center;\n",
       "        }    #T_976ea4c4_80dd_11ea_837d_f01898950881row1_col2 {\n",
       "            text-align:  center;\n",
       "        }    #T_976ea4c4_80dd_11ea_837d_f01898950881row1_col3 {\n",
       "            text-align:  center;\n",
       "        }    #T_976ea4c4_80dd_11ea_837d_f01898950881row2_col0 {\n",
       "            text-align:  center;\n",
       "        }    #T_976ea4c4_80dd_11ea_837d_f01898950881row2_col1 {\n",
       "            text-align:  center;\n",
       "        }    #T_976ea4c4_80dd_11ea_837d_f01898950881row2_col2 {\n",
       "            text-align:  center;\n",
       "        }    #T_976ea4c4_80dd_11ea_837d_f01898950881row2_col3 {\n",
       "            text-align:  center;\n",
       "        }</style><table id=\"T_976ea4c4_80dd_11ea_837d_f01898950881\" ><thead>    <tr>        <th class=\"blank level0\" ></th>        <th class=\"col_heading level0 col0\" >Purchase Count</th>        <th class=\"col_heading level0 col1\" >Avg. Purchase Count</th>        <th class=\"col_heading level0 col2\" >Total Purchase Count</th>        <th class=\"col_heading level0 col3\" >Avg. Purchase Total per Person</th>    </tr>    <tr>        <th class=\"index_name level0\" >Gender</th>        <th class=\"blank\" ></th>        <th class=\"blank\" ></th>        <th class=\"blank\" ></th>        <th class=\"blank\" ></th>    </tr></thead><tbody>\n",
       "                <tr>\n",
       "                        <th id=\"T_976ea4c4_80dd_11ea_837d_f01898950881level0_row0\" class=\"row_heading level0 row0\" >Female</th>\n",
       "                        <td id=\"T_976ea4c4_80dd_11ea_837d_f01898950881row0_col0\" class=\"data row0 col0\" >113</td>\n",
       "                        <td id=\"T_976ea4c4_80dd_11ea_837d_f01898950881row0_col1\" class=\"data row0 col1\" >$3.20</td>\n",
       "                        <td id=\"T_976ea4c4_80dd_11ea_837d_f01898950881row0_col2\" class=\"data row0 col2\" >$361.94</td>\n",
       "                        <td id=\"T_976ea4c4_80dd_11ea_837d_f01898950881row0_col3\" class=\"data row0 col3\" >$4.47</td>\n",
       "            </tr>\n",
       "            <tr>\n",
       "                        <th id=\"T_976ea4c4_80dd_11ea_837d_f01898950881level0_row1\" class=\"row_heading level0 row1\" >Male</th>\n",
       "                        <td id=\"T_976ea4c4_80dd_11ea_837d_f01898950881row1_col0\" class=\"data row1 col0\" >652</td>\n",
       "                        <td id=\"T_976ea4c4_80dd_11ea_837d_f01898950881row1_col1\" class=\"data row1 col1\" >$3.02</td>\n",
       "                        <td id=\"T_976ea4c4_80dd_11ea_837d_f01898950881row1_col2\" class=\"data row1 col2\" >$1,967.64</td>\n",
       "                        <td id=\"T_976ea4c4_80dd_11ea_837d_f01898950881row1_col3\" class=\"data row1 col3\" >$4.07</td>\n",
       "            </tr>\n",
       "            <tr>\n",
       "                        <th id=\"T_976ea4c4_80dd_11ea_837d_f01898950881level0_row2\" class=\"row_heading level0 row2\" >Other / Non-Disclosed</th>\n",
       "                        <td id=\"T_976ea4c4_80dd_11ea_837d_f01898950881row2_col0\" class=\"data row2 col0\" >15</td>\n",
       "                        <td id=\"T_976ea4c4_80dd_11ea_837d_f01898950881row2_col1\" class=\"data row2 col1\" >$3.35</td>\n",
       "                        <td id=\"T_976ea4c4_80dd_11ea_837d_f01898950881row2_col2\" class=\"data row2 col2\" >$50.19</td>\n",
       "                        <td id=\"T_976ea4c4_80dd_11ea_837d_f01898950881row2_col3\" class=\"data row2 col3\" >$4.56</td>\n",
       "            </tr>\n",
       "    </tbody></table>"
      ],
      "text/plain": [
       "<pandas.io.formats.style.Styler at 0x11df5c290>"
      ]
     },
     "execution_count": 174,
     "metadata": {},
     "output_type": "execute_result"
    }
   ],
   "source": [
    "# Compile gender demogrpahics summary table into a dataframe\n",
    "p_gender_summary_df = pd.DataFrame({\n",
    "                                \"Gender\":['Male','Female','Other / Non-Disclosed'],\n",
    "                                \"Purchase Count\":[mPurchCnt,fPurchCnt,oPurchCnt],\n",
    "                                \"Avg. Purchase Count\":[mAvgPrice, fAvgPrice,oAvgPrice],\n",
    "                                \"Total Purchase Count\":[mTotPrice, fTotPrice,oTotPrice],\n",
    "                                \"Avg. Purchase Total per Person\":[mAvgPP, fAvgPP,oAvgPP]\n",
    "                                })\n",
    "\n",
    "# Format the summary table\n",
    "p_gender_summary_df[\"Avg. Purchase Count\"] = p_gender_summary_df[\"Avg. Purchase Count\"].map(\"${:,.2f}\".format)\n",
    "p_gender_summary_df[\"Total Purchase Count\"] = p_gender_summary_df[\"Total Purchase Count\"].map(\"${:,.2f}\".format)\n",
    "p_gender_summary_df[\"Avg. Purchase Total per Person\"] = p_gender_summary_df[\"Avg. Purchase Total per Person\"].map(\"${:,.2f}\".format)\n",
    "\n",
    "# Display the formatted summary table\n",
    "p_gender_summary_df.sort_values(\"Gender\").set_index(\"Gender\").style.set_properties(**{'text-align': 'center'})\n",
    "\n"
   ]
  },
  {
   "cell_type": "markdown",
   "metadata": {},
   "source": [
    "## **>> Age Demographics**"
   ]
  },
  {
   "cell_type": "code",
   "execution_count": 231,
   "metadata": {},
   "outputs": [
    {
     "data": {
      "text/html": [
       "<style  type=\"text/css\" >\n",
       "    #T_d0261bdc_80ea_11ea_837d_f01898950881row0_col0 {\n",
       "            text-align:  center;\n",
       "        }    #T_d0261bdc_80ea_11ea_837d_f01898950881row0_col1 {\n",
       "            text-align:  center;\n",
       "        }    #T_d0261bdc_80ea_11ea_837d_f01898950881row1_col0 {\n",
       "            text-align:  center;\n",
       "        }    #T_d0261bdc_80ea_11ea_837d_f01898950881row1_col1 {\n",
       "            text-align:  center;\n",
       "        }    #T_d0261bdc_80ea_11ea_837d_f01898950881row2_col0 {\n",
       "            text-align:  center;\n",
       "        }    #T_d0261bdc_80ea_11ea_837d_f01898950881row2_col1 {\n",
       "            text-align:  center;\n",
       "        }    #T_d0261bdc_80ea_11ea_837d_f01898950881row3_col0 {\n",
       "            text-align:  center;\n",
       "        }    #T_d0261bdc_80ea_11ea_837d_f01898950881row3_col1 {\n",
       "            text-align:  center;\n",
       "        }    #T_d0261bdc_80ea_11ea_837d_f01898950881row4_col0 {\n",
       "            text-align:  center;\n",
       "        }    #T_d0261bdc_80ea_11ea_837d_f01898950881row4_col1 {\n",
       "            text-align:  center;\n",
       "        }    #T_d0261bdc_80ea_11ea_837d_f01898950881row5_col0 {\n",
       "            text-align:  center;\n",
       "        }    #T_d0261bdc_80ea_11ea_837d_f01898950881row5_col1 {\n",
       "            text-align:  center;\n",
       "        }    #T_d0261bdc_80ea_11ea_837d_f01898950881row6_col0 {\n",
       "            text-align:  center;\n",
       "        }    #T_d0261bdc_80ea_11ea_837d_f01898950881row6_col1 {\n",
       "            text-align:  center;\n",
       "        }    #T_d0261bdc_80ea_11ea_837d_f01898950881row7_col0 {\n",
       "            text-align:  center;\n",
       "        }    #T_d0261bdc_80ea_11ea_837d_f01898950881row7_col1 {\n",
       "            text-align:  center;\n",
       "        }</style><table id=\"T_d0261bdc_80ea_11ea_837d_f01898950881\" ><thead>    <tr>        <th class=\"blank level0\" ></th>        <th class=\"col_heading level0 col0\" >Total Count</th>        <th class=\"col_heading level0 col1\" >Percentage of Players</th>    </tr>    <tr>        <th class=\"index_name level0\" >Age Group</th>        <th class=\"blank\" ></th>        <th class=\"blank\" ></th>    </tr></thead><tbody>\n",
       "                <tr>\n",
       "                        <th id=\"T_d0261bdc_80ea_11ea_837d_f01898950881level0_row0\" class=\"row_heading level0 row0\" ><10</th>\n",
       "                        <td id=\"T_d0261bdc_80ea_11ea_837d_f01898950881row0_col0\" class=\"data row0 col0\" >17</td>\n",
       "                        <td id=\"T_d0261bdc_80ea_11ea_837d_f01898950881row0_col1\" class=\"data row0 col1\" >2.95%</td>\n",
       "            </tr>\n",
       "            <tr>\n",
       "                        <th id=\"T_d0261bdc_80ea_11ea_837d_f01898950881level0_row1\" class=\"row_heading level0 row1\" >10-14</th>\n",
       "                        <td id=\"T_d0261bdc_80ea_11ea_837d_f01898950881row1_col0\" class=\"data row1 col0\" >22</td>\n",
       "                        <td id=\"T_d0261bdc_80ea_11ea_837d_f01898950881row1_col1\" class=\"data row1 col1\" >3.82%</td>\n",
       "            </tr>\n",
       "            <tr>\n",
       "                        <th id=\"T_d0261bdc_80ea_11ea_837d_f01898950881level0_row2\" class=\"row_heading level0 row2\" >15-19</th>\n",
       "                        <td id=\"T_d0261bdc_80ea_11ea_837d_f01898950881row2_col0\" class=\"data row2 col0\" >107</td>\n",
       "                        <td id=\"T_d0261bdc_80ea_11ea_837d_f01898950881row2_col1\" class=\"data row2 col1\" >18.58%</td>\n",
       "            </tr>\n",
       "            <tr>\n",
       "                        <th id=\"T_d0261bdc_80ea_11ea_837d_f01898950881level0_row3\" class=\"row_heading level0 row3\" >20-24</th>\n",
       "                        <td id=\"T_d0261bdc_80ea_11ea_837d_f01898950881row3_col0\" class=\"data row3 col0\" >258</td>\n",
       "                        <td id=\"T_d0261bdc_80ea_11ea_837d_f01898950881row3_col1\" class=\"data row3 col1\" >44.79%</td>\n",
       "            </tr>\n",
       "            <tr>\n",
       "                        <th id=\"T_d0261bdc_80ea_11ea_837d_f01898950881level0_row4\" class=\"row_heading level0 row4\" >25-29</th>\n",
       "                        <td id=\"T_d0261bdc_80ea_11ea_837d_f01898950881row4_col0\" class=\"data row4 col0\" >77</td>\n",
       "                        <td id=\"T_d0261bdc_80ea_11ea_837d_f01898950881row4_col1\" class=\"data row4 col1\" >13.37%</td>\n",
       "            </tr>\n",
       "            <tr>\n",
       "                        <th id=\"T_d0261bdc_80ea_11ea_837d_f01898950881level0_row5\" class=\"row_heading level0 row5\" >30-34</th>\n",
       "                        <td id=\"T_d0261bdc_80ea_11ea_837d_f01898950881row5_col0\" class=\"data row5 col0\" >52</td>\n",
       "                        <td id=\"T_d0261bdc_80ea_11ea_837d_f01898950881row5_col1\" class=\"data row5 col1\" >9.03%</td>\n",
       "            </tr>\n",
       "            <tr>\n",
       "                        <th id=\"T_d0261bdc_80ea_11ea_837d_f01898950881level0_row6\" class=\"row_heading level0 row6\" >35-39</th>\n",
       "                        <td id=\"T_d0261bdc_80ea_11ea_837d_f01898950881row6_col0\" class=\"data row6 col0\" >31</td>\n",
       "                        <td id=\"T_d0261bdc_80ea_11ea_837d_f01898950881row6_col1\" class=\"data row6 col1\" >5.38%</td>\n",
       "            </tr>\n",
       "            <tr>\n",
       "                        <th id=\"T_d0261bdc_80ea_11ea_837d_f01898950881level0_row7\" class=\"row_heading level0 row7\" >40+</th>\n",
       "                        <td id=\"T_d0261bdc_80ea_11ea_837d_f01898950881row7_col0\" class=\"data row7 col0\" >12</td>\n",
       "                        <td id=\"T_d0261bdc_80ea_11ea_837d_f01898950881row7_col1\" class=\"data row7 col1\" >2.08%</td>\n",
       "            </tr>\n",
       "    </tbody></table>"
      ],
      "text/plain": [
       "<pandas.io.formats.style.Styler at 0x11df72650>"
      ]
     },
     "execution_count": 231,
     "metadata": {},
     "output_type": "execute_result"
    }
   ],
   "source": [
    "# Create an age bin\n",
    "bins = [0,9,14,19,24,29,34,39,purchase_data[\"Age\"].max()]\n",
    "\n",
    "# Create bin labels for age groups\n",
    "grp_labels = [\"<10\",\"10-14\",\"15-19\",\"20-24\",\"25-29\",\"30-34\",\"35-39\",\"40+\"]\n",
    "\n",
    "# Add age group column to purchase data\n",
    "purchase_data[\"Age Group\"] = pd.cut(purchase_data[\"Age\"],bins,labels=grp_labels)\n",
    "\n",
    "# Count number of customers in each age group\n",
    "grpCnt = []\n",
    "# Cycle through each age group\n",
    "for grp in grp_labels:\n",
    "    # Make temporary groups\n",
    "    grpFilter = pd.DataFrame(purchase_data.loc[purchase_data[\"Age Group\"]==grp])\n",
    "    # Count unique individuals within group\n",
    "    grpCnt.append(grpFilter[\"SN\"].value_counts().count())\n",
    "\n",
    "# Display age demographics\n",
    "age_summary_df = pd.DataFrame({\n",
    "                                \"Age Group\":grp_labels,\n",
    "                                \"Total Count\":grpCnt,\n",
    "                                \"Percentage of Players\":grpCnt/no_unique_players*100,\n",
    "                                })\n",
    "\n",
    "# Format Summary Table\n",
    "age_summary_df[\"Percentage of Players\"] = age_summary_df[\"Percentage of Players\"].map(\"{:.2f}%\".format)\n",
    "\n",
    "# Display age demographics summary table\n",
    "age_summary_df.set_index(\"Age Group\").style.set_properties(**{'text-align': 'center'})"
   ]
  },
  {
   "cell_type": "markdown",
   "metadata": {},
   "source": [
    "## **>> Purchasing Analysis (Age)**"
   ]
  },
  {
   "cell_type": "code",
   "execution_count": 246,
   "metadata": {},
   "outputs": [],
   "source": [
    "# Initialize lists containingg purchasing data points\n",
    "age_purchCnt = []\n",
    "age_avgPurchPrice = []\n",
    "age_totPurchVal = []\n",
    "age_avgPurchTot = []\n",
    "\n",
    "# Cycle through each age group\n",
    "for grp in grp_labels:\n",
    "    \n",
    "    # Create an age group filter\n",
    "    grpFilter = pd.DataFrame(purchase_data.loc[purchase_data[\"Age Group\"]==grp])\n",
    "    \n",
    "    # Calculate purchase count for each age group\n",
    "    age_purchCnt.append(grpFilter[\"Purchase ID\"].value_counts().count())\n",
    "                        \n",
    "    # Calculate average purchase count for each age group\n",
    "    age_avgPurchPrice.append(grpFilter[\"Price\"].mean())\n",
    "                             \n",
    "    # Calculate total purchase value for each age group\n",
    "    age_totPurchVal.append(grpFilter[\"Price\"].sum())\n",
    "    \n",
    "                             \n",
    "# Calculate average purchase total per person for each age group\n",
    "age_avgPurchTot = [x/y for x,y in zip(age_totPurchVal, age_summary_df[\"Total Count\"])]\n",
    "                             "
   ]
  },
  {
   "cell_type": "markdown",
   "metadata": {},
   "source": [
    "### **<u>Purchasing Analysis (Age) Summary</u>**"
   ]
  },
  {
   "cell_type": "code",
   "execution_count": 419,
   "metadata": {},
   "outputs": [
    {
     "data": {
      "text/html": [
       "<style  type=\"text/css\" >\n",
       "    #T_d0ef89fa_8107_11ea_837d_f01898950881row0_col0 {\n",
       "            text-align:  center;\n",
       "        }    #T_d0ef89fa_8107_11ea_837d_f01898950881row0_col1 {\n",
       "            text-align:  center;\n",
       "        }    #T_d0ef89fa_8107_11ea_837d_f01898950881row0_col2 {\n",
       "            text-align:  center;\n",
       "        }    #T_d0ef89fa_8107_11ea_837d_f01898950881row0_col3 {\n",
       "            text-align:  center;\n",
       "        }    #T_d0ef89fa_8107_11ea_837d_f01898950881row1_col0 {\n",
       "            text-align:  center;\n",
       "        }    #T_d0ef89fa_8107_11ea_837d_f01898950881row1_col1 {\n",
       "            text-align:  center;\n",
       "        }    #T_d0ef89fa_8107_11ea_837d_f01898950881row1_col2 {\n",
       "            text-align:  center;\n",
       "        }    #T_d0ef89fa_8107_11ea_837d_f01898950881row1_col3 {\n",
       "            text-align:  center;\n",
       "        }    #T_d0ef89fa_8107_11ea_837d_f01898950881row2_col0 {\n",
       "            text-align:  center;\n",
       "        }    #T_d0ef89fa_8107_11ea_837d_f01898950881row2_col1 {\n",
       "            text-align:  center;\n",
       "        }    #T_d0ef89fa_8107_11ea_837d_f01898950881row2_col2 {\n",
       "            text-align:  center;\n",
       "        }    #T_d0ef89fa_8107_11ea_837d_f01898950881row2_col3 {\n",
       "            text-align:  center;\n",
       "        }    #T_d0ef89fa_8107_11ea_837d_f01898950881row3_col0 {\n",
       "            text-align:  center;\n",
       "        }    #T_d0ef89fa_8107_11ea_837d_f01898950881row3_col1 {\n",
       "            text-align:  center;\n",
       "        }    #T_d0ef89fa_8107_11ea_837d_f01898950881row3_col2 {\n",
       "            text-align:  center;\n",
       "        }    #T_d0ef89fa_8107_11ea_837d_f01898950881row3_col3 {\n",
       "            text-align:  center;\n",
       "        }    #T_d0ef89fa_8107_11ea_837d_f01898950881row4_col0 {\n",
       "            text-align:  center;\n",
       "        }    #T_d0ef89fa_8107_11ea_837d_f01898950881row4_col1 {\n",
       "            text-align:  center;\n",
       "        }    #T_d0ef89fa_8107_11ea_837d_f01898950881row4_col2 {\n",
       "            text-align:  center;\n",
       "        }    #T_d0ef89fa_8107_11ea_837d_f01898950881row4_col3 {\n",
       "            text-align:  center;\n",
       "        }    #T_d0ef89fa_8107_11ea_837d_f01898950881row5_col0 {\n",
       "            text-align:  center;\n",
       "        }    #T_d0ef89fa_8107_11ea_837d_f01898950881row5_col1 {\n",
       "            text-align:  center;\n",
       "        }    #T_d0ef89fa_8107_11ea_837d_f01898950881row5_col2 {\n",
       "            text-align:  center;\n",
       "        }    #T_d0ef89fa_8107_11ea_837d_f01898950881row5_col3 {\n",
       "            text-align:  center;\n",
       "        }    #T_d0ef89fa_8107_11ea_837d_f01898950881row6_col0 {\n",
       "            text-align:  center;\n",
       "        }    #T_d0ef89fa_8107_11ea_837d_f01898950881row6_col1 {\n",
       "            text-align:  center;\n",
       "        }    #T_d0ef89fa_8107_11ea_837d_f01898950881row6_col2 {\n",
       "            text-align:  center;\n",
       "        }    #T_d0ef89fa_8107_11ea_837d_f01898950881row6_col3 {\n",
       "            text-align:  center;\n",
       "        }    #T_d0ef89fa_8107_11ea_837d_f01898950881row7_col0 {\n",
       "            text-align:  center;\n",
       "        }    #T_d0ef89fa_8107_11ea_837d_f01898950881row7_col1 {\n",
       "            text-align:  center;\n",
       "        }    #T_d0ef89fa_8107_11ea_837d_f01898950881row7_col2 {\n",
       "            text-align:  center;\n",
       "        }    #T_d0ef89fa_8107_11ea_837d_f01898950881row7_col3 {\n",
       "            text-align:  center;\n",
       "        }</style><table id=\"T_d0ef89fa_8107_11ea_837d_f01898950881\" ><thead>    <tr>        <th class=\"blank level0\" ></th>        <th class=\"col_heading level0 col0\" >Purchase Count</th>        <th class=\"col_heading level0 col1\" >Avg. Purchase Count</th>        <th class=\"col_heading level0 col2\" >Total Purchase Count</th>        <th class=\"col_heading level0 col3\" >Avg. Purchase Total per Person</th>    </tr>    <tr>        <th class=\"index_name level0\" >Age Ranges</th>        <th class=\"blank\" ></th>        <th class=\"blank\" ></th>        <th class=\"blank\" ></th>        <th class=\"blank\" ></th>    </tr></thead><tbody>\n",
       "                <tr>\n",
       "                        <th id=\"T_d0ef89fa_8107_11ea_837d_f01898950881level0_row0\" class=\"row_heading level0 row0\" ><10</th>\n",
       "                        <td id=\"T_d0ef89fa_8107_11ea_837d_f01898950881row0_col0\" class=\"data row0 col0\" >23</td>\n",
       "                        <td id=\"T_d0ef89fa_8107_11ea_837d_f01898950881row0_col1\" class=\"data row0 col1\" >$3.35</td>\n",
       "                        <td id=\"T_d0ef89fa_8107_11ea_837d_f01898950881row0_col2\" class=\"data row0 col2\" >$77.13</td>\n",
       "                        <td id=\"T_d0ef89fa_8107_11ea_837d_f01898950881row0_col3\" class=\"data row0 col3\" >$4.54</td>\n",
       "            </tr>\n",
       "            <tr>\n",
       "                        <th id=\"T_d0ef89fa_8107_11ea_837d_f01898950881level0_row1\" class=\"row_heading level0 row1\" >10-14</th>\n",
       "                        <td id=\"T_d0ef89fa_8107_11ea_837d_f01898950881row1_col0\" class=\"data row1 col0\" >28</td>\n",
       "                        <td id=\"T_d0ef89fa_8107_11ea_837d_f01898950881row1_col1\" class=\"data row1 col1\" >$2.96</td>\n",
       "                        <td id=\"T_d0ef89fa_8107_11ea_837d_f01898950881row1_col2\" class=\"data row1 col2\" >$82.78</td>\n",
       "                        <td id=\"T_d0ef89fa_8107_11ea_837d_f01898950881row1_col3\" class=\"data row1 col3\" >$3.76</td>\n",
       "            </tr>\n",
       "            <tr>\n",
       "                        <th id=\"T_d0ef89fa_8107_11ea_837d_f01898950881level0_row2\" class=\"row_heading level0 row2\" >15-19</th>\n",
       "                        <td id=\"T_d0ef89fa_8107_11ea_837d_f01898950881row2_col0\" class=\"data row2 col0\" >136</td>\n",
       "                        <td id=\"T_d0ef89fa_8107_11ea_837d_f01898950881row2_col1\" class=\"data row2 col1\" >$3.04</td>\n",
       "                        <td id=\"T_d0ef89fa_8107_11ea_837d_f01898950881row2_col2\" class=\"data row2 col2\" >$412.89</td>\n",
       "                        <td id=\"T_d0ef89fa_8107_11ea_837d_f01898950881row2_col3\" class=\"data row2 col3\" >$3.86</td>\n",
       "            </tr>\n",
       "            <tr>\n",
       "                        <th id=\"T_d0ef89fa_8107_11ea_837d_f01898950881level0_row3\" class=\"row_heading level0 row3\" >20-24</th>\n",
       "                        <td id=\"T_d0ef89fa_8107_11ea_837d_f01898950881row3_col0\" class=\"data row3 col0\" >365</td>\n",
       "                        <td id=\"T_d0ef89fa_8107_11ea_837d_f01898950881row3_col1\" class=\"data row3 col1\" >$3.05</td>\n",
       "                        <td id=\"T_d0ef89fa_8107_11ea_837d_f01898950881row3_col2\" class=\"data row3 col2\" >$1,114.06</td>\n",
       "                        <td id=\"T_d0ef89fa_8107_11ea_837d_f01898950881row3_col3\" class=\"data row3 col3\" >$4.32</td>\n",
       "            </tr>\n",
       "            <tr>\n",
       "                        <th id=\"T_d0ef89fa_8107_11ea_837d_f01898950881level0_row4\" class=\"row_heading level0 row4\" >25-29</th>\n",
       "                        <td id=\"T_d0ef89fa_8107_11ea_837d_f01898950881row4_col0\" class=\"data row4 col0\" >101</td>\n",
       "                        <td id=\"T_d0ef89fa_8107_11ea_837d_f01898950881row4_col1\" class=\"data row4 col1\" >$2.90</td>\n",
       "                        <td id=\"T_d0ef89fa_8107_11ea_837d_f01898950881row4_col2\" class=\"data row4 col2\" >$293.00</td>\n",
       "                        <td id=\"T_d0ef89fa_8107_11ea_837d_f01898950881row4_col3\" class=\"data row4 col3\" >$3.81</td>\n",
       "            </tr>\n",
       "            <tr>\n",
       "                        <th id=\"T_d0ef89fa_8107_11ea_837d_f01898950881level0_row5\" class=\"row_heading level0 row5\" >30-34</th>\n",
       "                        <td id=\"T_d0ef89fa_8107_11ea_837d_f01898950881row5_col0\" class=\"data row5 col0\" >73</td>\n",
       "                        <td id=\"T_d0ef89fa_8107_11ea_837d_f01898950881row5_col1\" class=\"data row5 col1\" >$2.93</td>\n",
       "                        <td id=\"T_d0ef89fa_8107_11ea_837d_f01898950881row5_col2\" class=\"data row5 col2\" >$214.00</td>\n",
       "                        <td id=\"T_d0ef89fa_8107_11ea_837d_f01898950881row5_col3\" class=\"data row5 col3\" >$4.12</td>\n",
       "            </tr>\n",
       "            <tr>\n",
       "                        <th id=\"T_d0ef89fa_8107_11ea_837d_f01898950881level0_row6\" class=\"row_heading level0 row6\" >35-39</th>\n",
       "                        <td id=\"T_d0ef89fa_8107_11ea_837d_f01898950881row6_col0\" class=\"data row6 col0\" >41</td>\n",
       "                        <td id=\"T_d0ef89fa_8107_11ea_837d_f01898950881row6_col1\" class=\"data row6 col1\" >$3.60</td>\n",
       "                        <td id=\"T_d0ef89fa_8107_11ea_837d_f01898950881row6_col2\" class=\"data row6 col2\" >$147.67</td>\n",
       "                        <td id=\"T_d0ef89fa_8107_11ea_837d_f01898950881row6_col3\" class=\"data row6 col3\" >$4.76</td>\n",
       "            </tr>\n",
       "            <tr>\n",
       "                        <th id=\"T_d0ef89fa_8107_11ea_837d_f01898950881level0_row7\" class=\"row_heading level0 row7\" >40+</th>\n",
       "                        <td id=\"T_d0ef89fa_8107_11ea_837d_f01898950881row7_col0\" class=\"data row7 col0\" >13</td>\n",
       "                        <td id=\"T_d0ef89fa_8107_11ea_837d_f01898950881row7_col1\" class=\"data row7 col1\" >$2.94</td>\n",
       "                        <td id=\"T_d0ef89fa_8107_11ea_837d_f01898950881row7_col2\" class=\"data row7 col2\" >$38.24</td>\n",
       "                        <td id=\"T_d0ef89fa_8107_11ea_837d_f01898950881row7_col3\" class=\"data row7 col3\" >$3.19</td>\n",
       "            </tr>\n",
       "    </tbody></table>"
      ],
      "text/plain": [
       "<pandas.io.formats.style.Styler at 0x11ec580d0>"
      ]
     },
     "execution_count": 419,
     "metadata": {},
     "output_type": "execute_result"
    }
   ],
   "source": [
    "# Compile gender demogrpahics summary table into a dataframe\n",
    "p_age_summary_df = pd.DataFrame({\n",
    "                                \"Age Ranges\":grp_labels,\n",
    "                                \"Purchase Count\":age_purchCnt,\n",
    "                                \"Avg. Purchase Count\":age_avgPurchPrice,\n",
    "                                \"Total Purchase Count\":age_totPurchVal,\n",
    "                                \"Avg. Purchase Total per Person\":age_avgPurchTot\n",
    "                                })\n",
    "\n",
    "# Format the summary table\n",
    "p_age_summary_df[\"Avg. Purchase Count\"] = p_age_summary_df[\"Avg. Purchase Count\"].map(\"${:,.2f}\".format)\n",
    "p_age_summary_df[\"Total Purchase Count\"] = p_age_summary_df[\"Total Purchase Count\"].map(\"${:,.2f}\".format)\n",
    "p_age_summary_df[\"Avg. Purchase Total per Person\"] = p_age_summary_df[\"Avg. Purchase Total per Person\"].map(\"${:,.2f}\".format)\n",
    "\n",
    "# Display the formatted summary table\n",
    "p_age_summary_df.set_index(\"Age Ranges\").style.set_properties(**{'text-align': 'center'})"
   ]
  },
  {
   "cell_type": "markdown",
   "metadata": {},
   "source": [
    "## **>> Top Spenders**"
   ]
  },
  {
   "cell_type": "code",
   "execution_count": 38,
   "metadata": {},
   "outputs": [],
   "source": [
    "# Obtain list of unique spenders\n",
    "spenders = purchase_data.groupby([\"SN\"])\n",
    "\n",
    "# Calculate total purchases made by indiv. spenders\n",
    "spenders_totPurch = spenders[\"Price\"].sum()\n",
    "\n",
    "# Count number of purchases made by indiv. spenders\n",
    "spenders_purchCnt = spenders[\"Purchase ID\"].count()\n",
    "\n",
    "# Calculate average purchase price\n",
    "spenders_avgPurch = [i/j for i,j in zip(spenders_totPurch, spenders_purchCnt)]"
   ]
  },
  {
   "cell_type": "markdown",
   "metadata": {},
   "source": [
    "### **<u>Top Spenders Summary</u>**"
   ]
  },
  {
   "cell_type": "code",
   "execution_count": 39,
   "metadata": {},
   "outputs": [
    {
     "data": {
      "text/html": [
       "<style  type=\"text/css\" >\n",
       "    #T_a1a01086_8182_11ea_b7ac_f01898950881row0_col0 {\n",
       "            text-align:  center;\n",
       "        }    #T_a1a01086_8182_11ea_b7ac_f01898950881row0_col1 {\n",
       "            text-align:  center;\n",
       "        }    #T_a1a01086_8182_11ea_b7ac_f01898950881row0_col2 {\n",
       "            text-align:  center;\n",
       "        }    #T_a1a01086_8182_11ea_b7ac_f01898950881row1_col0 {\n",
       "            text-align:  center;\n",
       "        }    #T_a1a01086_8182_11ea_b7ac_f01898950881row1_col1 {\n",
       "            text-align:  center;\n",
       "        }    #T_a1a01086_8182_11ea_b7ac_f01898950881row1_col2 {\n",
       "            text-align:  center;\n",
       "        }    #T_a1a01086_8182_11ea_b7ac_f01898950881row2_col0 {\n",
       "            text-align:  center;\n",
       "        }    #T_a1a01086_8182_11ea_b7ac_f01898950881row2_col1 {\n",
       "            text-align:  center;\n",
       "        }    #T_a1a01086_8182_11ea_b7ac_f01898950881row2_col2 {\n",
       "            text-align:  center;\n",
       "        }    #T_a1a01086_8182_11ea_b7ac_f01898950881row3_col0 {\n",
       "            text-align:  center;\n",
       "        }    #T_a1a01086_8182_11ea_b7ac_f01898950881row3_col1 {\n",
       "            text-align:  center;\n",
       "        }    #T_a1a01086_8182_11ea_b7ac_f01898950881row3_col2 {\n",
       "            text-align:  center;\n",
       "        }    #T_a1a01086_8182_11ea_b7ac_f01898950881row4_col0 {\n",
       "            text-align:  center;\n",
       "        }    #T_a1a01086_8182_11ea_b7ac_f01898950881row4_col1 {\n",
       "            text-align:  center;\n",
       "        }    #T_a1a01086_8182_11ea_b7ac_f01898950881row4_col2 {\n",
       "            text-align:  center;\n",
       "        }</style><table id=\"T_a1a01086_8182_11ea_b7ac_f01898950881\" ><thead>    <tr>        <th class=\"blank level0\" ></th>        <th class=\"col_heading level0 col0\" >Purchase Count</th>        <th class=\"col_heading level0 col1\" >Avg. Purchase Count</th>        <th class=\"col_heading level0 col2\" >Total Purchase Value</th>    </tr>    <tr>        <th class=\"index_name level0\" >SN</th>        <th class=\"blank\" ></th>        <th class=\"blank\" ></th>        <th class=\"blank\" ></th>    </tr></thead><tbody>\n",
       "                <tr>\n",
       "                        <th id=\"T_a1a01086_8182_11ea_b7ac_f01898950881level0_row0\" class=\"row_heading level0 row0\" >Lisosia93</th>\n",
       "                        <td id=\"T_a1a01086_8182_11ea_b7ac_f01898950881row0_col0\" class=\"data row0 col0\" >5</td>\n",
       "                        <td id=\"T_a1a01086_8182_11ea_b7ac_f01898950881row0_col1\" class=\"data row0 col1\" >$3.79</td>\n",
       "                        <td id=\"T_a1a01086_8182_11ea_b7ac_f01898950881row0_col2\" class=\"data row0 col2\" >$18.96</td>\n",
       "            </tr>\n",
       "            <tr>\n",
       "                        <th id=\"T_a1a01086_8182_11ea_b7ac_f01898950881level0_row1\" class=\"row_heading level0 row1\" >Idastidru52</th>\n",
       "                        <td id=\"T_a1a01086_8182_11ea_b7ac_f01898950881row1_col0\" class=\"data row1 col0\" >4</td>\n",
       "                        <td id=\"T_a1a01086_8182_11ea_b7ac_f01898950881row1_col1\" class=\"data row1 col1\" >$3.86</td>\n",
       "                        <td id=\"T_a1a01086_8182_11ea_b7ac_f01898950881row1_col2\" class=\"data row1 col2\" >$15.45</td>\n",
       "            </tr>\n",
       "            <tr>\n",
       "                        <th id=\"T_a1a01086_8182_11ea_b7ac_f01898950881level0_row2\" class=\"row_heading level0 row2\" >Chamjask73</th>\n",
       "                        <td id=\"T_a1a01086_8182_11ea_b7ac_f01898950881row2_col0\" class=\"data row2 col0\" >3</td>\n",
       "                        <td id=\"T_a1a01086_8182_11ea_b7ac_f01898950881row2_col1\" class=\"data row2 col1\" >$4.61</td>\n",
       "                        <td id=\"T_a1a01086_8182_11ea_b7ac_f01898950881row2_col2\" class=\"data row2 col2\" >$13.83</td>\n",
       "            </tr>\n",
       "            <tr>\n",
       "                        <th id=\"T_a1a01086_8182_11ea_b7ac_f01898950881level0_row3\" class=\"row_heading level0 row3\" >Iral74</th>\n",
       "                        <td id=\"T_a1a01086_8182_11ea_b7ac_f01898950881row3_col0\" class=\"data row3 col0\" >4</td>\n",
       "                        <td id=\"T_a1a01086_8182_11ea_b7ac_f01898950881row3_col1\" class=\"data row3 col1\" >$3.40</td>\n",
       "                        <td id=\"T_a1a01086_8182_11ea_b7ac_f01898950881row3_col2\" class=\"data row3 col2\" >$13.62</td>\n",
       "            </tr>\n",
       "            <tr>\n",
       "                        <th id=\"T_a1a01086_8182_11ea_b7ac_f01898950881level0_row4\" class=\"row_heading level0 row4\" >Iskadarya95</th>\n",
       "                        <td id=\"T_a1a01086_8182_11ea_b7ac_f01898950881row4_col0\" class=\"data row4 col0\" >3</td>\n",
       "                        <td id=\"T_a1a01086_8182_11ea_b7ac_f01898950881row4_col1\" class=\"data row4 col1\" >$4.37</td>\n",
       "                        <td id=\"T_a1a01086_8182_11ea_b7ac_f01898950881row4_col2\" class=\"data row4 col2\" >$13.10</td>\n",
       "            </tr>\n",
       "    </tbody></table>"
      ],
      "text/plain": [
       "<pandas.io.formats.style.Styler at 0x11ecb0fd0>"
      ]
     },
     "execution_count": 39,
     "metadata": {},
     "output_type": "execute_result"
    }
   ],
   "source": [
    "# Compile top spender summary table into a dataframe\n",
    "spender_summary_df = pd.DataFrame({\n",
    "                                \"Purchase Count\":spenders_purchCnt,\n",
    "                                \"Avg. Purchase Count\":spenders_avgPurch,\n",
    "                                \"Total Purchase Value\":spenders_totPurch\n",
    "                                })\n",
    "\n",
    "# Sort from top spender to lowest spender\n",
    "spender_summary_sorted = spender_summary_df.sort_values(by=\"Total Purchase Value\",ascending = False)\n",
    "\n",
    "# Format the sorted summary table\n",
    "spender_summary_sorted[\"Avg. Purchase Count\"] = spender_summary_df[\"Avg. Purchase Count\"].map(\"${:,.2f}\".format)\n",
    "spender_summary_sorted[\"Total Purchase Value\"] = spender_summary_df[\"Total Purchase Value\"].map(\"${:,.2f}\".format)\n",
    "\n",
    "\n",
    "# Display the formatted summary table; provide top 5 spenders\n",
    "spender_summary_sorted.head().style.set_properties(**{'text-align': 'center'})"
   ]
  },
  {
   "cell_type": "markdown",
   "metadata": {},
   "source": [
    "## **>> Most Popular Items**"
   ]
  },
  {
   "cell_type": "code",
   "execution_count": 5,
   "metadata": {},
   "outputs": [],
   "source": [
    "# Create item dataframe\n",
    "items_db = purchase_data[[\"Item ID\",\"Item Name\",\"Price\"]]\n",
    "\n",
    "# Group by Item ID and Item Name\n",
    "grouped_items_db = items_db.groupby(by=[\"Item ID\",\"Item Name\"])\n",
    "\n",
    "# Calculate number of items in group\n",
    "noItems = grouped_items_db[\"Item Name\"].count()\n",
    "\n",
    "# Add total purchase price for each item\n",
    "totalItemPrice = grouped_items_db[\"Price\"].sum()\n",
    "\n",
    "# Price of each item\n",
    "priceItem = [x/y for x,y in zip(totalItemPrice,noItems)]"
   ]
  },
  {
   "cell_type": "markdown",
   "metadata": {},
   "source": [
    "### **<u>Most Popular Items Summary</u>**"
   ]
  },
  {
   "cell_type": "code",
   "execution_count": 6,
   "metadata": {},
   "outputs": [
    {
     "data": {
      "text/html": [
       "<style  type=\"text/css\" >\n",
       "    #T_235d9402_81a8_11ea_9124_f01898950881row0_col0 {\n",
       "            text-align:  center;\n",
       "        }    #T_235d9402_81a8_11ea_9124_f01898950881row0_col1 {\n",
       "            text-align:  center;\n",
       "        }    #T_235d9402_81a8_11ea_9124_f01898950881row0_col2 {\n",
       "            text-align:  center;\n",
       "        }    #T_235d9402_81a8_11ea_9124_f01898950881row1_col0 {\n",
       "            text-align:  center;\n",
       "        }    #T_235d9402_81a8_11ea_9124_f01898950881row1_col1 {\n",
       "            text-align:  center;\n",
       "        }    #T_235d9402_81a8_11ea_9124_f01898950881row1_col2 {\n",
       "            text-align:  center;\n",
       "        }    #T_235d9402_81a8_11ea_9124_f01898950881row2_col0 {\n",
       "            text-align:  center;\n",
       "        }    #T_235d9402_81a8_11ea_9124_f01898950881row2_col1 {\n",
       "            text-align:  center;\n",
       "        }    #T_235d9402_81a8_11ea_9124_f01898950881row2_col2 {\n",
       "            text-align:  center;\n",
       "        }    #T_235d9402_81a8_11ea_9124_f01898950881row3_col0 {\n",
       "            text-align:  center;\n",
       "        }    #T_235d9402_81a8_11ea_9124_f01898950881row3_col1 {\n",
       "            text-align:  center;\n",
       "        }    #T_235d9402_81a8_11ea_9124_f01898950881row3_col2 {\n",
       "            text-align:  center;\n",
       "        }    #T_235d9402_81a8_11ea_9124_f01898950881row4_col0 {\n",
       "            text-align:  center;\n",
       "        }    #T_235d9402_81a8_11ea_9124_f01898950881row4_col1 {\n",
       "            text-align:  center;\n",
       "        }    #T_235d9402_81a8_11ea_9124_f01898950881row4_col2 {\n",
       "            text-align:  center;\n",
       "        }</style><table id=\"T_235d9402_81a8_11ea_9124_f01898950881\" ><thead>    <tr>        <th class=\"blank\" ></th>        <th class=\"blank level0\" ></th>        <th class=\"col_heading level0 col0\" >Purchase Count</th>        <th class=\"col_heading level0 col1\" >Item Price</th>        <th class=\"col_heading level0 col2\" >Total Purchase Value</th>    </tr>    <tr>        <th class=\"index_name level0\" >Item ID</th>        <th class=\"index_name level1\" >Item Name</th>        <th class=\"blank\" ></th>        <th class=\"blank\" ></th>        <th class=\"blank\" ></th>    </tr></thead><tbody>\n",
       "                <tr>\n",
       "                        <th id=\"T_235d9402_81a8_11ea_9124_f01898950881level0_row0\" class=\"row_heading level0 row0\" >92</th>\n",
       "                        <th id=\"T_235d9402_81a8_11ea_9124_f01898950881level1_row0\" class=\"row_heading level1 row0\" >Final Critic</th>\n",
       "                        <td id=\"T_235d9402_81a8_11ea_9124_f01898950881row0_col0\" class=\"data row0 col0\" >13</td>\n",
       "                        <td id=\"T_235d9402_81a8_11ea_9124_f01898950881row0_col1\" class=\"data row0 col1\" >$4.61</td>\n",
       "                        <td id=\"T_235d9402_81a8_11ea_9124_f01898950881row0_col2\" class=\"data row0 col2\" >$59.99</td>\n",
       "            </tr>\n",
       "            <tr>\n",
       "                        <th id=\"T_235d9402_81a8_11ea_9124_f01898950881level0_row1\" class=\"row_heading level0 row1\" >178</th>\n",
       "                        <th id=\"T_235d9402_81a8_11ea_9124_f01898950881level1_row1\" class=\"row_heading level1 row1\" >Oathbreaker, Last Hope of the Breaking Storm</th>\n",
       "                        <td id=\"T_235d9402_81a8_11ea_9124_f01898950881row1_col0\" class=\"data row1 col0\" >12</td>\n",
       "                        <td id=\"T_235d9402_81a8_11ea_9124_f01898950881row1_col1\" class=\"data row1 col1\" >$4.23</td>\n",
       "                        <td id=\"T_235d9402_81a8_11ea_9124_f01898950881row1_col2\" class=\"data row1 col2\" >$50.76</td>\n",
       "            </tr>\n",
       "            <tr>\n",
       "                        <th id=\"T_235d9402_81a8_11ea_9124_f01898950881level0_row2\" class=\"row_heading level0 row2\" >145</th>\n",
       "                        <th id=\"T_235d9402_81a8_11ea_9124_f01898950881level1_row2\" class=\"row_heading level1 row2\" >Fiery Glass Crusader</th>\n",
       "                        <td id=\"T_235d9402_81a8_11ea_9124_f01898950881row2_col0\" class=\"data row2 col0\" >9</td>\n",
       "                        <td id=\"T_235d9402_81a8_11ea_9124_f01898950881row2_col1\" class=\"data row2 col1\" >$4.58</td>\n",
       "                        <td id=\"T_235d9402_81a8_11ea_9124_f01898950881row2_col2\" class=\"data row2 col2\" >$41.22</td>\n",
       "            </tr>\n",
       "            <tr>\n",
       "                        <th id=\"T_235d9402_81a8_11ea_9124_f01898950881level0_row3\" class=\"row_heading level0 row3\" >132</th>\n",
       "                        <th id=\"T_235d9402_81a8_11ea_9124_f01898950881level1_row3\" class=\"row_heading level1 row3\" >Persuasion</th>\n",
       "                        <td id=\"T_235d9402_81a8_11ea_9124_f01898950881row3_col0\" class=\"data row3 col0\" >9</td>\n",
       "                        <td id=\"T_235d9402_81a8_11ea_9124_f01898950881row3_col1\" class=\"data row3 col1\" >$3.22</td>\n",
       "                        <td id=\"T_235d9402_81a8_11ea_9124_f01898950881row3_col2\" class=\"data row3 col2\" >$28.99</td>\n",
       "            </tr>\n",
       "            <tr>\n",
       "                        <th id=\"T_235d9402_81a8_11ea_9124_f01898950881level0_row4\" class=\"row_heading level0 row4\" >108</th>\n",
       "                        <th id=\"T_235d9402_81a8_11ea_9124_f01898950881level1_row4\" class=\"row_heading level1 row4\" >Extraction, Quickblade Of Trembling Hands</th>\n",
       "                        <td id=\"T_235d9402_81a8_11ea_9124_f01898950881row4_col0\" class=\"data row4 col0\" >9</td>\n",
       "                        <td id=\"T_235d9402_81a8_11ea_9124_f01898950881row4_col1\" class=\"data row4 col1\" >$3.53</td>\n",
       "                        <td id=\"T_235d9402_81a8_11ea_9124_f01898950881row4_col2\" class=\"data row4 col2\" >$31.77</td>\n",
       "            </tr>\n",
       "    </tbody></table>"
      ],
      "text/plain": [
       "<pandas.io.formats.style.Styler at 0x115452690>"
      ]
     },
     "execution_count": 6,
     "metadata": {},
     "output_type": "execute_result"
    }
   ],
   "source": [
    "# Compile most popular item summary table into a dataframe\n",
    "item_summary_df = pd.DataFrame({\n",
    "                                \"Purchase Count\":noItems,\n",
    "                                \"Item Price\":priceItem,\n",
    "                                \"Total Purchase Value\":totalItemPrice\n",
    "                                })\n",
    "\n",
    "# Sort from top spender to lowest spender\n",
    "item_summary_sorted = item_summary_df.sort_values(by=\"Purchase Count\",ascending = False)\n",
    "\n",
    "# Format the sorted summary table\n",
    "item_summary_sorted[\"Item Price\"] = item_summary_df[\"Item Price\"].map(\"${:,.2f}\".format)\n",
    "item_summary_sorted[\"Total Purchase Value\"] = item_summary_df[\"Total Purchase Value\"].map(\"${:,.2f}\".format)\n",
    "\n",
    "\n",
    "# Display the formatted summary table; provide top 5 spenders\n",
    "item_summary_sorted.head().style.set_properties(**{'text-align': 'center'})"
   ]
  },
  {
   "cell_type": "markdown",
   "metadata": {},
   "source": [
    "## **>> Most Profitable Items**"
   ]
  },
  {
   "cell_type": "markdown",
   "metadata": {},
   "source": [
    "### **<u>Most Profitable Items Summary</u>**"
   ]
  },
  {
   "cell_type": "code",
   "execution_count": 7,
   "metadata": {},
   "outputs": [
    {
     "data": {
      "text/html": [
       "<style  type=\"text/css\" >\n",
       "    #T_5e3c360a_81a8_11ea_9124_f01898950881row0_col0 {\n",
       "            text-align:  center;\n",
       "        }    #T_5e3c360a_81a8_11ea_9124_f01898950881row0_col1 {\n",
       "            text-align:  center;\n",
       "        }    #T_5e3c360a_81a8_11ea_9124_f01898950881row0_col2 {\n",
       "            text-align:  center;\n",
       "        }    #T_5e3c360a_81a8_11ea_9124_f01898950881row1_col0 {\n",
       "            text-align:  center;\n",
       "        }    #T_5e3c360a_81a8_11ea_9124_f01898950881row1_col1 {\n",
       "            text-align:  center;\n",
       "        }    #T_5e3c360a_81a8_11ea_9124_f01898950881row1_col2 {\n",
       "            text-align:  center;\n",
       "        }    #T_5e3c360a_81a8_11ea_9124_f01898950881row2_col0 {\n",
       "            text-align:  center;\n",
       "        }    #T_5e3c360a_81a8_11ea_9124_f01898950881row2_col1 {\n",
       "            text-align:  center;\n",
       "        }    #T_5e3c360a_81a8_11ea_9124_f01898950881row2_col2 {\n",
       "            text-align:  center;\n",
       "        }    #T_5e3c360a_81a8_11ea_9124_f01898950881row3_col0 {\n",
       "            text-align:  center;\n",
       "        }    #T_5e3c360a_81a8_11ea_9124_f01898950881row3_col1 {\n",
       "            text-align:  center;\n",
       "        }    #T_5e3c360a_81a8_11ea_9124_f01898950881row3_col2 {\n",
       "            text-align:  center;\n",
       "        }    #T_5e3c360a_81a8_11ea_9124_f01898950881row4_col0 {\n",
       "            text-align:  center;\n",
       "        }    #T_5e3c360a_81a8_11ea_9124_f01898950881row4_col1 {\n",
       "            text-align:  center;\n",
       "        }    #T_5e3c360a_81a8_11ea_9124_f01898950881row4_col2 {\n",
       "            text-align:  center;\n",
       "        }</style><table id=\"T_5e3c360a_81a8_11ea_9124_f01898950881\" ><thead>    <tr>        <th class=\"blank\" ></th>        <th class=\"blank level0\" ></th>        <th class=\"col_heading level0 col0\" >Purchase Count</th>        <th class=\"col_heading level0 col1\" >Item Price</th>        <th class=\"col_heading level0 col2\" >Total Purchase Value</th>    </tr>    <tr>        <th class=\"index_name level0\" >Item ID</th>        <th class=\"index_name level1\" >Item Name</th>        <th class=\"blank\" ></th>        <th class=\"blank\" ></th>        <th class=\"blank\" ></th>    </tr></thead><tbody>\n",
       "                <tr>\n",
       "                        <th id=\"T_5e3c360a_81a8_11ea_9124_f01898950881level0_row0\" class=\"row_heading level0 row0\" >92</th>\n",
       "                        <th id=\"T_5e3c360a_81a8_11ea_9124_f01898950881level1_row0\" class=\"row_heading level1 row0\" >Final Critic</th>\n",
       "                        <td id=\"T_5e3c360a_81a8_11ea_9124_f01898950881row0_col0\" class=\"data row0 col0\" >13</td>\n",
       "                        <td id=\"T_5e3c360a_81a8_11ea_9124_f01898950881row0_col1\" class=\"data row0 col1\" >$4.61</td>\n",
       "                        <td id=\"T_5e3c360a_81a8_11ea_9124_f01898950881row0_col2\" class=\"data row0 col2\" >$59.99</td>\n",
       "            </tr>\n",
       "            <tr>\n",
       "                        <th id=\"T_5e3c360a_81a8_11ea_9124_f01898950881level0_row1\" class=\"row_heading level0 row1\" >178</th>\n",
       "                        <th id=\"T_5e3c360a_81a8_11ea_9124_f01898950881level1_row1\" class=\"row_heading level1 row1\" >Oathbreaker, Last Hope of the Breaking Storm</th>\n",
       "                        <td id=\"T_5e3c360a_81a8_11ea_9124_f01898950881row1_col0\" class=\"data row1 col0\" >12</td>\n",
       "                        <td id=\"T_5e3c360a_81a8_11ea_9124_f01898950881row1_col1\" class=\"data row1 col1\" >$4.23</td>\n",
       "                        <td id=\"T_5e3c360a_81a8_11ea_9124_f01898950881row1_col2\" class=\"data row1 col2\" >$50.76</td>\n",
       "            </tr>\n",
       "            <tr>\n",
       "                        <th id=\"T_5e3c360a_81a8_11ea_9124_f01898950881level0_row2\" class=\"row_heading level0 row2\" >82</th>\n",
       "                        <th id=\"T_5e3c360a_81a8_11ea_9124_f01898950881level1_row2\" class=\"row_heading level1 row2\" >Nirvana</th>\n",
       "                        <td id=\"T_5e3c360a_81a8_11ea_9124_f01898950881row2_col0\" class=\"data row2 col0\" >9</td>\n",
       "                        <td id=\"T_5e3c360a_81a8_11ea_9124_f01898950881row2_col1\" class=\"data row2 col1\" >$4.90</td>\n",
       "                        <td id=\"T_5e3c360a_81a8_11ea_9124_f01898950881row2_col2\" class=\"data row2 col2\" >$44.10</td>\n",
       "            </tr>\n",
       "            <tr>\n",
       "                        <th id=\"T_5e3c360a_81a8_11ea_9124_f01898950881level0_row3\" class=\"row_heading level0 row3\" >145</th>\n",
       "                        <th id=\"T_5e3c360a_81a8_11ea_9124_f01898950881level1_row3\" class=\"row_heading level1 row3\" >Fiery Glass Crusader</th>\n",
       "                        <td id=\"T_5e3c360a_81a8_11ea_9124_f01898950881row3_col0\" class=\"data row3 col0\" >9</td>\n",
       "                        <td id=\"T_5e3c360a_81a8_11ea_9124_f01898950881row3_col1\" class=\"data row3 col1\" >$4.58</td>\n",
       "                        <td id=\"T_5e3c360a_81a8_11ea_9124_f01898950881row3_col2\" class=\"data row3 col2\" >$41.22</td>\n",
       "            </tr>\n",
       "            <tr>\n",
       "                        <th id=\"T_5e3c360a_81a8_11ea_9124_f01898950881level0_row4\" class=\"row_heading level0 row4\" >103</th>\n",
       "                        <th id=\"T_5e3c360a_81a8_11ea_9124_f01898950881level1_row4\" class=\"row_heading level1 row4\" >Singed Scalpel</th>\n",
       "                        <td id=\"T_5e3c360a_81a8_11ea_9124_f01898950881row4_col0\" class=\"data row4 col0\" >8</td>\n",
       "                        <td id=\"T_5e3c360a_81a8_11ea_9124_f01898950881row4_col1\" class=\"data row4 col1\" >$4.35</td>\n",
       "                        <td id=\"T_5e3c360a_81a8_11ea_9124_f01898950881row4_col2\" class=\"data row4 col2\" >$34.80</td>\n",
       "            </tr>\n",
       "    </tbody></table>"
      ],
      "text/plain": [
       "<pandas.io.formats.style.Styler at 0x115dd3790>"
      ]
     },
     "execution_count": 7,
     "metadata": {},
     "output_type": "execute_result"
    }
   ],
   "source": [
    "# Sort from top spender to lowest spender\n",
    "item_summary_profit = item_summary_df.sort_values(by=\"Total Purchase Value\",ascending = False)\n",
    "\n",
    "# Format the sorted summary table\n",
    "item_summary_profit[\"Item Price\"] = item_summary_df[\"Item Price\"].map(\"${:,.2f}\".format)\n",
    "item_summary_profit[\"Total Purchase Value\"] = item_summary_df[\"Total Purchase Value\"].map(\"${:,.2f}\".format)\n",
    "\n",
    "\n",
    "# Display the formatted summary table; provide top 5 spenders\n",
    "item_summary_profit.head().style.set_properties(**{'text-align': 'center'})"
   ]
  },
  {
   "cell_type": "markdown",
   "metadata": {},
   "source": [
    "***"
   ]
  }
 ],
 "metadata": {
  "kernelspec": {
   "display_name": "Python 3",
   "language": "python",
   "name": "python3"
  },
  "language_info": {
   "codemirror_mode": {
    "name": "ipython",
    "version": 3
   },
   "file_extension": ".py",
   "mimetype": "text/x-python",
   "name": "python",
   "nbconvert_exporter": "python",
   "pygments_lexer": "ipython3",
   "version": "3.7.4"
  }
 },
 "nbformat": 4,
 "nbformat_minor": 2
}
